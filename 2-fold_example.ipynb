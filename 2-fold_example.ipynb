{
 "cells": [
  {
   "cell_type": "markdown",
   "source": [
    "# Comparison of the 2-fold method and our extension"
   ],
   "metadata": {
    "collapsed": false,
    "pycharm": {
     "name": "#%% md\n"
    }
   }
  },
  {
   "cell_type": "markdown",
   "source": [
    "This notebook provides simulation experiments that demonstrate how the 2-fold method can have a very considerable false-positive-rate. We calculate the false-positive-rate for a wide range of scenarios. We demonstrate two things:\n",
    "1. In the edge cases both methods agree. With edge cases we mean scenarios where we have a large number of subjects, a low variance, or a very poor model. This is unsurprising since our method is an extension of the 2-fold method.\n",
    "2. In cases where there is simply not enough information to make a decision, our method will refrain from doing so, contrary to the 2-fold method."
   ],
   "metadata": {
    "collapsed": false,
    "pycharm": {
     "name": "#%% md\n"
    }
   }
  },
  {
   "cell_type": "markdown",
   "source": [
    "### The necessary code, the experiments start below"
   ],
   "metadata": {
    "collapsed": false,
    "pycharm": {
     "name": "#%% md\n"
    }
   }
  },
  {
   "cell_type": "code",
   "execution_count": 1,
   "outputs": [],
   "source": [
    "import numpy as np\n",
    "import matplotlib.pyplot as plt\n",
    "import pandas as pd\n",
    "import scipy"
   ],
   "metadata": {
    "collapsed": false,
    "pycharm": {
     "name": "#%%\n"
    }
   }
  },
  {
   "cell_type": "code",
   "execution_count": null,
   "outputs": [],
   "source": [
    "def geomean(x):\n",
    "    \"\"\"Calculate the geometric mean\"\"\"\n",
    "    return np.exp(np.mean(np.log(x)))"
   ],
   "metadata": {
    "collapsed": false,
    "pycharm": {
     "name": "#%%\n"
    }
   }
  },
  {
   "cell_type": "code",
   "execution_count": null,
   "outputs": [],
   "source": [
    "def get_acceptance_rate(*, true_ratio, CV, n_subjects, n_simulations=10000):\n",
    "    \"\"\"\n",
    "    Get the acceptance rate when using the 2-fold method.\n",
    "\n",
    "    Arguments:\n",
    "        true_ratio: The true geometric mean ratio (e^muhat / e^mu).\n",
    "        CV: The geometric coefficient of variation of the subjects.\n",
    "        n_subjects: The number of subjects\n",
    "        n_simulations: The number of simulations that is used to calculate the acceptance rate\n",
    "\n",
    "    Return:\n",
    "        acceptance_rate: The simulated acceptance rate.\n",
    "    \"\"\"\n",
    "    accepted = 0\n",
    "    true_gmean = 300\n",
    "    simulated_gmean = true_ratio * true_gmean\n",
    "    std_dev = np.sqrt(np.log(CV**2 + 1))\n",
    "    ratios = []\n",
    "    for i in range(n_simulations):\n",
    "        observed_values = np.exp(np.random.normal(loc=np.log(true_gmean), scale=std_dev, size=n_subjects))\n",
    "        ratio =  simulated_gmean / geomean(observed_values)\n",
    "        ratios.append(ratio)\n",
    "        if  0.5 <= ratio <= 2:\n",
    "            accepted += 1\n",
    "    acceptance_rate = accepted / n_simulations\n",
    "    return acceptance_rate"
   ],
   "metadata": {
    "collapsed": false,
    "pycharm": {
     "name": "#%%\n"
    }
   }
  },
  {
   "cell_type": "code",
   "execution_count": null,
   "outputs": [],
   "source": [
    "def CI_method(GM_observed, GM_predicted, GCV, N, alpha=0.1):\n",
    "    \"\"\"This function calculates a confidence interval using the observed\n",
    "       geometric mean, the predicted geometric mean, and the coefficient\n",
    "       of variation.\n",
    "\n",
    "    Arguments:\n",
    "      GM_observed (float): The geometric mean of the observations\n",
    "      GM_predicted (float): The geometric mean of the predictions\n",
    "      GCV (float): The geometric coefficient of variation. Note that values are\n",
    "        often reported as percentiles in literature. If 70% is reported, use 0.7.\n",
    "      N (int): The number of observations.\n",
    "      alpha (float): Determines the significance of the confidence interval.\n",
    "        The significance is (1-alpha/2)*100%.\n",
    "\n",
    "    Return:\n",
    "      The result of the test (reject (0), accept (1), refrain (2))\n",
    "    \"\"\"\n",
    "    average = np.log(GM_observed)\n",
    "    var = np.log(GCV**2 + 1)\n",
    "    t = scipy.stats.t(N-1).ppf(1-alpha/2)\n",
    "    loglowerbound = average + t * np.sqrt(var / N)\n",
    "    logupperbound = average - t * np.sqrt(var / N)\n",
    "    CI = [GM_predicted / np.exp(loglowerbound), GM_predicted / np.exp(logupperbound)]\n",
    "    if CI[1] < 0.5:\n",
    "        return 0  # Reject\n",
    "    if CI[0] < 0.5 and CI[1] > 0.5:\n",
    "        return 2  # Refrain\n",
    "    if CI[0] > 0.5 and CI[1] < 2:\n",
    "        return 1  # Accept\n",
    "    if CI[0] < 2 and CI[1] > 2:\n",
    "        return 2  # Refrain\n",
    "    if CI[0] > 2:\n",
    "        return 0  # Accept"
   ],
   "metadata": {
    "collapsed": false,
    "pycharm": {
     "name": "#%%\n"
    }
   }
  },
  {
   "cell_type": "code",
   "execution_count": null,
   "outputs": [],
   "source": [
    "def simulate_CI_method(*, true_ratio, CV, n_subjects, n_simulations=10000):\n",
    "    \"\"\"Compute the results of a large number of simulated subjects using the CI method.\"\"\"\n",
    "    results = np.zeros(n_simulations)\n",
    "    true_gmean = 300  # Results are the same for any true_gmean since we work with the coefficient of variation.\n",
    "    simulated_gmean = true_ratio * true_gmean\n",
    "    std_dev = np.sqrt(np.log(CV**2 + 1))\n",
    "    for i in range(n_simulations):\n",
    "        observed_values = np.exp(np.random.normal(loc=np.log(true_gmean), scale=std_dev, size=n_subjects))\n",
    "        observed_geometric_mean = geomean(observed_values)\n",
    "        GCV = np.sqrt(np.exp(np.var(np.log(observed_values))) - 1)\n",
    "        results[i] = CI_method(observed_geometric_mean, simulated_gmean, GCV=GCV, N=n_subjects)\n",
    "    return results"
   ],
   "metadata": {
    "collapsed": false,
    "pycharm": {
     "name": "#%%\n"
    }
   }
  },
  {
   "cell_type": "markdown",
   "source": [
    "## Problems with the 2-fold method"
   ],
   "metadata": {
    "collapsed": false,
    "pycharm": {
     "name": "#%% md\n"
    }
   }
  },
  {
   "cell_type": "markdown",
   "source": [
    "The 2-fold method can easily result in a very high false positive rate when we use a small number of subjects. The actual false-positive-rate depends on the variance of the subjects and on the quality of the model. If the true GMR ($e^{\\hat{\\mu}} / e^{\\mu}$) is slightly below 0.5 or above 2, the false-positive-rate will be higher."
   ],
   "metadata": {
    "collapsed": false,
    "pycharm": {
     "name": "#%% md\n"
    }
   }
  },
  {
   "cell_type": "markdown",
   "source": [
    "We first consider a setting where the true GMR is 0.45 and we have five subjects with a CV of 0.8. We simulate 10.000 sets of 5 patients and calculate how often we would have accepted the model even though we should have rejected it."
   ],
   "metadata": {
    "collapsed": false,
    "pycharm": {
     "name": "#%% md\n"
    }
   }
  },
  {
   "cell_type": "code",
   "execution_count": null,
   "outputs": [],
   "source": [
    "accepted = 0\n",
    "actual_ratio = 0.45  # Actual geometric mean ratio.\n",
    "true_gmean = 300 # Results only depend on CV, any value for true_gmean gives the same results.\n",
    "simulated_gmean = actual_ratio * true_gmean\n",
    "CV = 0.8\n",
    "std_dev = np.sqrt(np.log(CV**2 + 1))\n",
    "ratios = []\n",
    "n_simulations = 10000\n",
    "n_subjects = 5\n",
    "for i in range(n_simulations):\n",
    "    observed_values = np.exp(np.random.normal(loc=np.log(true_gmean), scale=std_dev, size=n_subjects))\n",
    "    ratio =  simulated_gmean / geomean(observed_values)\n",
    "    ratios.append(ratio)\n",
    "    if  0.5 <= ratio <= 2:\n",
    "        accepted += 1\n",
    "FPR = accepted / n_simulations\n",
    "print(f'FPR = {FPR}')"
   ],
   "metadata": {
    "collapsed": false,
    "pycharm": {
     "name": "#%%\n"
    }
   }
  },
  {
   "cell_type": "markdown",
   "source": [
    "The histogram below illustrates what is going on. The observed GMR is a random variable since it depends on the random observations. This can lead us to have an acceptable GMR by chance."
   ],
   "metadata": {
    "collapsed": false,
    "pycharm": {
     "name": "#%% md\n"
    }
   }
  },
  {
   "cell_type": "code",
   "execution_count": null,
   "outputs": [],
   "source": [
    "fontsize = 17\n",
    "plt.figure(dpi=300, figsize=(10, 5))\n",
    "plt.hist(ratios, bins=np.linspace(0, 5, 200))\n",
    "plt.xlim((0, 3))\n",
    "plt.axvline(x=0.5, color='red', linestyle='--')\n",
    "plt.yticks([200, 400, 600, 800], fontsize=fontsize)\n",
    "plt.xticks(fontsize=fontsize)\n",
    "plt.axvline(x=2, color='red', linestyle='--')\n",
    "plt.xlabel('Observed geometric-mean-ratio', fontsize=fontsize)\n",
    "plt.title(f'True GMR = {np.round(actual_ratio, 2)}, {n_subjects} subjects, CV = {CV}, acceptance rate = {np.round(FPR,2)}', fontsize=fontsize)\n",
    "plt.show()"
   ],
   "metadata": {
    "collapsed": false,
    "pycharm": {
     "name": "#%%\n"
    }
   }
  },
  {
   "cell_type": "code",
   "execution_count": 17,
   "outputs": [],
   "source": [
    "true_ratios = [0.7, 0.49, 0.45, 0.4, 0.3]\n",
    "CVs = [0.8, 0.7, 0.6, 0.5]\n",
    "ns_subjects = [5, 10, 15, 20]\n",
    "data_frames = {}\n",
    "for ratio in true_ratios:\n",
    "    data = []\n",
    "    for CV in CVs:\n",
    "        row_data = []\n",
    "        for n in ns_subjects:\n",
    "            acceptance_rate = get_acceptance_rate(true_ratio=ratio, CV=CV, n_subjects=n)\n",
    "            row_data.append(acceptance_rate)\n",
    "        data.append(row_data)\n",
    "    df = pd.DataFrame(data, index=CVs, columns=ns_subjects)\n",
    "    data_frames[ratio] = df"
   ],
   "metadata": {
    "collapsed": false,
    "pycharm": {
     "name": "#%%\n"
    }
   }
  },
  {
   "cell_type": "code",
   "execution_count": 85,
   "outputs": [
    {
     "name": "stdout",
     "output_type": "stream",
     "text": [
      "True ratio: 0.7\n",
      "CV           number of subjects         \n",
      "         5       10      15      20\n",
      "0.8  0.8611  0.9316  0.9696  0.9836\n",
      "0.7  0.8829  0.9585  0.9793  0.9914\n",
      "0.6  0.9123  0.9739  0.9899  0.9954\n",
      "0.5  0.9423  0.9874  0.9977  0.9987\n",
      "-----------------\n",
      "True ratio: 0.49\n",
      "CV           number of subjects         \n",
      "         5       10      15      20\n",
      "0.8  0.4720  0.4696  0.4506  0.4530\n",
      "0.7  0.4709  0.4636  0.4530  0.4454\n",
      "0.6  0.4724  0.4556  0.4434  0.4375\n",
      "0.5  0.4642  0.4493  0.4321  0.4251\n",
      "-----------------\n",
      "True ratio: 0.45\n",
      "CV           number of subjects         \n",
      "         5       10      15      20\n",
      "0.8  0.3619  0.3206  0.2870  0.2500\n",
      "0.7  0.3558  0.3017  0.2516  0.2260\n",
      "0.6  0.3387  0.2769  0.2358  0.1938\n",
      "0.5  0.3078  0.2417  0.1928  0.1610\n",
      "-----------------\n",
      "True ratio: 0.4\n",
      "CV           number of subjects         \n",
      "         5       10      15      20\n",
      "0.8  0.2356  0.1592  0.1036  0.0771\n",
      "0.7  0.2085  0.1326  0.0806  0.0607\n",
      "0.6  0.1931  0.1023  0.0580  0.0384\n",
      "0.5  0.1472  0.0667  0.0339  0.0191\n",
      "-----------------\n",
      "True ratio: 0.3\n",
      "CV           number of subjects         \n",
      "         5       10      15      20\n",
      "0.8  0.0512  0.0116  0.0026  0.0001\n",
      "0.7  0.0352  0.0050  0.0010  0.0000\n",
      "0.6  0.0205  0.0014  0.0002  0.0000\n",
      "0.5  0.0076  0.0006  0.0001  0.0000\n",
      "-----------------\n"
     ]
    }
   ],
   "source": [
    "for ratio in true_ratios:\n",
    "    print(f'True ratio: {ratio}')\n",
    "    print('CV           number of subjects         ')\n",
    "    print(f'{data_frames[ratio]}')\n",
    "    print('-----------------')"
   ],
   "metadata": {
    "collapsed": false,
    "pycharm": {
     "name": "#%%\n"
    }
   }
  },
  {
   "cell_type": "markdown",
   "source": [
    "## How does our method deal with a bad model?"
   ],
   "metadata": {
    "collapsed": false,
    "pycharm": {
     "name": "#%% md\n"
    }
   }
  },
  {
   "cell_type": "markdown",
   "source": [
    "In the previous example, we saw that the 2-fold method can have a considerable false-positive-rate. The following example illustrates how our method prevents this. If the model is bad, a true GMR of 0.3, and we have a large number of subjects and low variance (20 and 0.5 respectively), our method comes to the same conclusion as the 2-fold method. This is unsurprising since our method is an extension of the 2-fold method."
   ],
   "metadata": {
    "collapsed": false,
    "pycharm": {
     "name": "#%% md\n"
    }
   }
  },
  {
   "cell_type": "code",
   "execution_count": 20,
   "outputs": [
    {
     "name": "stdout",
     "output_type": "stream",
     "text": [
      "reject: 0.999\n",
      "accept: 0.0\n",
      "refrain: 0.001\n"
     ]
    }
   ],
   "source": [
    "results = simulate_CI_method(true_ratio=0.3, CV=0.5, n_subjects=20)\n",
    "print(f'reject: {np.mean(results == 0)}')\n",
    "print(f'accept: {np.mean(results == 1)}')\n",
    "print(f'refrain: {np.mean(results == 2)}')"
   ],
   "metadata": {
    "collapsed": false,
    "pycharm": {
     "name": "#%%\n"
    }
   }
  },
  {
   "cell_type": "code",
   "execution_count": 90,
   "outputs": [
    {
     "name": "stdout",
     "output_type": "stream",
     "text": [
      "reject: 0.9376\n",
      "accept: 0.0\n",
      "refrain: 0.0624\n"
     ]
    }
   ],
   "source": [
    "results = simulate_CI_method(true_ratio=0.3, CV=0.8, n_subjects=20)\n",
    "print(f'reject: {np.mean(results == 0)}')\n",
    "print(f'accept: {np.mean(results == 1)}')\n",
    "print(f'refrain: {np.mean(results == 2)}')"
   ],
   "metadata": {
    "collapsed": false,
    "pycharm": {
     "name": "#%%\n"
    }
   }
  },
  {
   "cell_type": "markdown",
   "source": [
    "In the case, however, where there is not enough evidence to make decision, our method will refrain from doing so. In the below example, we have a model that is close to the acceptable region (a true GMR of 0.45), where the five subjects are simulated from a lognormal distribution with a high CV of 0.8. Our method refrains from making a decision in 86% of simulations."
   ],
   "metadata": {
    "collapsed": false,
    "pycharm": {
     "name": "#%% md\n"
    }
   }
  },
  {
   "cell_type": "code",
   "execution_count": 44,
   "outputs": [
    {
     "name": "stdout",
     "output_type": "stream",
     "text": [
      "reject: 0.1106\n",
      "accept: 0.031\n",
      "refrain: 0.8584\n"
     ]
    }
   ],
   "source": [
    "results = simulate_CI_method(true_ratio=0.45, CV=0.8, n_subjects=5)\n",
    "print(f'reject: {np.mean(results == 0)}')\n",
    "print(f'accept: {np.mean(results == 1)}')\n",
    "print(f'refrain: {np.mean(results == 2)}')"
   ],
   "metadata": {
    "collapsed": false,
    "pycharm": {
     "name": "#%%\n"
    }
   }
  },
  {
   "cell_type": "markdown",
   "source": [
    "## What happens if the model is good?"
   ],
   "metadata": {
    "collapsed": false,
    "pycharm": {
     "name": "#%% md\n"
    }
   }
  },
  {
   "cell_type": "markdown",
   "source": [
    "We now test a scenario where we have 15 subjects, a good model (the true GMR is 1.2), and a relatively high CV of 0.8. We see that we accept the model in 86% of simulations and refrain from making a decision in 14% of simulations."
   ],
   "metadata": {
    "collapsed": false,
    "pycharm": {
     "name": "#%% md\n"
    }
   }
  },
  {
   "cell_type": "code",
   "execution_count": 41,
   "outputs": [
    {
     "name": "stdout",
     "output_type": "stream",
     "text": [
      "reject: 0.0\n",
      "accept: 0.8631\n",
      "refrain: 0.1369\n"
     ]
    }
   ],
   "source": [
    "results = simulate_CI_method(true_ratio=1.2, CV=0.8, n_subjects=15)\n",
    "print(f'reject: {np.mean(results == 0)}')\n",
    "print(f'accept: {np.mean(results == 1)}')\n",
    "print(f'refrain: {np.mean(results == 2)}')"
   ],
   "metadata": {
    "collapsed": false,
    "pycharm": {
     "name": "#%%\n"
    }
   }
  },
  {
   "cell_type": "markdown",
   "source": [
    "If we have a lower CV, of 0.5, we accept the model 99% of the time."
   ],
   "metadata": {
    "collapsed": false,
    "pycharm": {
     "name": "#%% md\n"
    }
   }
  },
  {
   "cell_type": "code",
   "execution_count": 42,
   "outputs": [
    {
     "name": "stdout",
     "output_type": "stream",
     "text": [
      "reject: 0.0\n",
      "accept: 0.9921\n",
      "refrain: 0.0079\n"
     ]
    }
   ],
   "source": [
    "results = simulate_CI_method(true_ratio=1.2, CV=0.5, n_subjects=15)\n",
    "print(f'reject: {np.mean(results == 0)}')\n",
    "print(f'accept: {np.mean(results == 1)}')\n",
    "print(f'refrain: {np.mean(results == 2)}')"
   ],
   "metadata": {
    "collapsed": false,
    "pycharm": {
     "name": "#%%\n"
    }
   }
  },
  {
   "cell_type": "markdown",
   "source": [
    "Similarly, if we have a high CV (0.8), but a larger amount of subjects (30), we also accept the model 99% of the time."
   ],
   "metadata": {
    "collapsed": false,
    "pycharm": {
     "name": "#%% md\n"
    }
   }
  },
  {
   "cell_type": "code",
   "execution_count": 80,
   "outputs": [
    {
     "name": "stdout",
     "output_type": "stream",
     "text": [
      "reject: 0.0\n",
      "accept: 0.9874\n",
      "refrain: 0.0126\n"
     ]
    }
   ],
   "source": [
    "results = simulate_CI_method(true_ratio=1.2, CV=0.8, n_subjects=30)\n",
    "print(f'reject: {np.mean(results == 0)}')\n",
    "print(f'accept: {np.mean(results == 1)}')\n",
    "print(f'refrain: {np.mean(results == 2)}')"
   ],
   "metadata": {
    "collapsed": false,
    "pycharm": {
     "name": "#%%\n"
    }
   }
  },
  {
   "cell_type": "markdown",
   "source": [
    "Various other scenarios"
   ],
   "metadata": {
    "collapsed": false,
    "pycharm": {
     "name": "#%% md\n"
    }
   }
  },
  {
   "cell_type": "code",
   "execution_count": 91,
   "outputs": [
    {
     "name": "stdout",
     "output_type": "stream",
     "text": [
      "reject: 0.008\n",
      "accept: 0.2224\n",
      "refrain: 0.7696\n"
     ]
    }
   ],
   "source": [
    "results = simulate_CI_method(true_ratio=0.7, CV=0.8, n_subjects=5)\n",
    "print(f'reject: {np.mean(results == 0)}')\n",
    "print(f'accept: {np.mean(results == 1)}')\n",
    "print(f'refrain: {np.mean(results == 2)}')"
   ],
   "metadata": {
    "collapsed": false,
    "pycharm": {
     "name": "#%%\n"
    }
   }
  },
  {
   "cell_type": "markdown",
   "source": [],
   "metadata": {
    "collapsed": false,
    "pycharm": {
     "name": "#%% md\n"
    }
   }
  },
  {
   "cell_type": "code",
   "execution_count": 92,
   "outputs": [
    {
     "name": "stdout",
     "output_type": "stream",
     "text": [
      "reject: 0.0001\n",
      "accept: 0.6681\n",
      "refrain: 0.3318\n"
     ]
    }
   ],
   "source": [
    "results = simulate_CI_method(true_ratio=0.7, CV=0.8, n_subjects=20)\n",
    "print(f'reject: {np.mean(results == 0)}')\n",
    "print(f'accept: {np.mean(results == 1)}')\n",
    "print(f'refrain: {np.mean(results == 2)}')"
   ],
   "metadata": {
    "collapsed": false,
    "pycharm": {
     "name": "#%%\n"
    }
   }
  },
  {
   "cell_type": "code",
   "execution_count": 93,
   "outputs": [
    {
     "name": "stdout",
     "output_type": "stream",
     "text": [
      "reject: 0.0\n",
      "accept: 0.9312\n",
      "refrain: 0.0688\n"
     ]
    }
   ],
   "source": [
    "results = simulate_CI_method(true_ratio=0.7, CV=0.5, n_subjects=20)\n",
    "print(f'reject: {np.mean(results == 0)}')\n",
    "print(f'accept: {np.mean(results == 1)}')\n",
    "print(f'refrain: {np.mean(results == 2)}')"
   ],
   "metadata": {
    "collapsed": false,
    "pycharm": {
     "name": "#%%\n"
    }
   }
  },
  {
   "cell_type": "code",
   "execution_count": 95,
   "outputs": [
    {
     "name": "stdout",
     "output_type": "stream",
     "text": [
      "reject: 0.2608\n",
      "accept: 0.0053\n",
      "refrain: 0.7339\n"
     ]
    }
   ],
   "source": [
    "results = simulate_CI_method(true_ratio=0.45, CV=0.5, n_subjects=20)\n",
    "print(f'reject: {np.mean(results == 0)}')\n",
    "print(f'accept: {np.mean(results == 1)}')\n",
    "print(f'refrain: {np.mean(results == 2)}')"
   ],
   "metadata": {
    "collapsed": false,
    "pycharm": {
     "name": "#%%\n"
    }
   }
  },
  {
   "cell_type": "markdown",
   "source": [
    "## Conclusion"
   ],
   "metadata": {
    "collapsed": false,
    "pycharm": {
     "name": "#%% md\n"
    }
   }
  },
  {
   "cell_type": "markdown",
   "source": [
    "We saw in this notebook that our method really is an extension of the 2-fold method. When we have a large number of subjects or a low variance, both methods will come to the same conclusion. If, however, we do not have a large number of subjects, a high variance, or our model's performance is close to the acceptable boundaries, we see the advantage of our extension. Where the 2-fold approach will always make a choice to accept or reject the model, sometimes with a very non-negligible falls-positive-rate, our method will generally refrain from making a decision, indicating that there is not enough evidence to either accept or reject the model"
   ],
   "metadata": {
    "collapsed": false,
    "pycharm": {
     "name": "#%% md\n"
    }
   }
  },
  {
   "cell_type": "markdown",
   "source": [],
   "metadata": {
    "collapsed": false,
    "pycharm": {
     "name": "#%% md\n"
    }
   }
  }
 ],
 "metadata": {
  "kernelspec": {
   "display_name": "Python 3",
   "language": "python",
   "name": "python3"
  },
  "language_info": {
   "codemirror_mode": {
    "name": "ipython",
    "version": 2
   },
   "file_extension": ".py",
   "mimetype": "text/x-python",
   "name": "python",
   "nbconvert_exporter": "python",
   "pygments_lexer": "ipython2",
   "version": "2.7.6"
  }
 },
 "nbformat": 4,
 "nbformat_minor": 0
}