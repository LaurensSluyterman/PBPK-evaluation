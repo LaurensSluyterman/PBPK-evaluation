{
  "nbformat": 4,
  "nbformat_minor": 0,
  "metadata": {
    "colab": {
      "provenance": [],
      "authorship_tag": "ABX9TyMN2tz2yVIUirLPfGa2iJgd",
      "include_colab_link": true
    },
    "kernelspec": {
      "name": "python3",
      "display_name": "Python 3"
    },
    "language_info": {
      "name": "python"
    }
  },
  "cells": [
    {
      "cell_type": "markdown",
      "metadata": {
        "id": "view-in-github",
        "colab_type": "text"
      },
      "source": [
        "<a href=\"https://colab.research.google.com/github/LaurensSluyterman/PBPK-evaluation/blob/main/PBPK_evaluation.ipynb\" target=\"_parent\"><img src=\"https://colab.research.google.com/assets/colab-badge.svg\" alt=\"Open In Colab\"/></a>"
      ]
    },
    {
      "cell_type": "markdown",
      "source": [
        "This colab contains all the necessary code in order to calcualte a confidence interval for a geometric mean ratio as is advocated in our paper  \"*Towards more RobustEvaluation of the Predictive Performance of Physiologically Based Pharmacokinetic Models: using Confidence Intervals to support use of Model-informed Dosing in Clinical Care*\", which is currently under review."
      ],
      "metadata": {
        "id": "O4CFt2EiA6C7"
      }
    },
    {
      "cell_type": "code",
      "source": [
        "#@title The code that is used ot create the intervals\n",
        "import numpy as np\n",
        "import scipy\n",
        "from scipy import stats\n",
        "\n",
        "def confidence_interval_individual_values(observations, predictions,\n",
        "                                          alpha=0.1):\n",
        "    \"\"\"This function calculates a confidence interval using the individual\n",
        "    predictions.\n",
        "\n",
        "    For details on the reasoning behind the interval, please see our\n",
        "    paper: ....\n",
        "\n",
        "    Arguments:\n",
        "      observations: An array containing the individual observations\n",
        "      predictions: An array containing the individual predictions\n",
        "      alpha: A float that determines the significance of the confidence interval.\n",
        "        The significance is (1-alpha/2)*100%.\n",
        "\n",
        "    Return:\n",
        "      None\n",
        "    \"\"\"\n",
        "    # Some preliminary checks\n",
        "    if len(observations) != len(predictions):\n",
        "      print('different number of predictions and observations')\n",
        "      return\n",
        "    if alpha > 1:\n",
        "      print('alpha cannot be larger than 1. For a 90% confidence interval, use alpha=0.1')\n",
        "    # Convert to logscale\n",
        "    error_values = np.log(predictions) - np.log(observations)\n",
        "\n",
        "    # Calcualte a CI on logscale for the mean of the error\n",
        "    N = len(error_values)\n",
        "    var = np.var(error_values)\n",
        "    average = np.mean(error_values)\n",
        "    t = scipy.stats.t(N-1).ppf(1-alpha/2)\n",
        "    loglowerbound = average - t * np.sqrt(var / N)\n",
        "    logupperbound = average + t * np.sqrt(var / N)\n",
        "\n",
        "    # Convert the CI back to the original scale\n",
        "    CI = [np.exp(loglowerbound), np.exp(logupperbound)]\n",
        "\n",
        "    # Print the result\n",
        "    print(f'{100*(1-alpha)}% confidence interval: {CI}')\n",
        "\n",
        "def confidence_interval(GM_observed, GM_predicted, GCV, N, alpha=0.1):\n",
        "    \"\"\"This function calculates a confidence interval using the observed\n",
        "       geometric mean, the predicted geometric mean, and the coefficient\n",
        "       of variation.\n",
        "\n",
        "    Arguments:\n",
        "      GM_observed (float): The geometric mean of the observations\n",
        "      GM_predicted (float): The geometric mean of the predictions\n",
        "      GCV (float): The geometric coefficient of variation. Note that values are\n",
        "        often reported as percentiles in literature. If 70% is reported, use 0.7.\n",
        "      N (int): The number of observations.\n",
        "      alpha (float): Determines the significance of the confidence interval.\n",
        "        The significance is (1-alpha/2)*100%.\n",
        "\n",
        "    Return:\n",
        "      None\n",
        "    \"\"\"\n",
        "    average = np.log(GM_observed)\n",
        "    var = np.log(GCV**2 + 1)\n",
        "    t = scipy.stats.t(N-1).ppf(1-alpha/2)\n",
        "    loglowerbound = average + t * np.sqrt(var / N)\n",
        "    logupperbound = average - t * np.sqrt(var / N)\n",
        "    CI = [GM_predicted / np.exp(loglowerbound), GM_predicted / np.exp(logupperbound)]\n",
        "    print(f'{100*(1-alpha)}% confidence interval: {CI}')\n"
      ],
      "metadata": {
        "id": "EPDAGOEH9VBo",
        "cellView": "form"
      },
      "execution_count": 4,
      "outputs": []
    },
    {
      "cell_type": "markdown",
      "source": [
        "The implementation of the code is give in the code block above. The some code can be found in the module CIs.py in the Confidence_intervals_code folder. The examples that follow load the code from that module. There is no need to run the code manually first."
      ],
      "metadata": {
        "id": "tOubSX306qqT"
      }
    },
    {
      "cell_type": "markdown",
      "source": [
        "## Example when individual observations and predictions are available\n",
        "\n",
        "The cell below illustrates how a confidence interval can be created using individual observations and predicitons. The hypothetical values can be replaced by relevant values. By default, a 90% confidence interval is given. To get, for instance, a 95% confidence interval, change alpha to 0.05.\n"
      ],
      "metadata": {
        "id": "u-xLvF5G-pUB"
      }
    },
    {
      "cell_type": "code",
      "source": [
        "hypothetical_observations = [132,\n",
        "                             111,\n",
        "                             120,\n",
        "                             190,\n",
        "                             115,\n",
        "                             130,\n",
        "                             ]\n",
        "\n",
        "hypothetical_predictions = [110,\n",
        "                            121,\n",
        "                            125,\n",
        "                            170,\n",
        "                            125,\n",
        "                            130,\n",
        "                            ]\n",
        "\n",
        "try:\n",
        "  confidence_interval_individual_values(hypothetical_observations,\n",
        "                                      hypothetical_predictions,\n",
        "                                      alpha=0.1)\n",
        "except NameError:\n",
        "  print('Run the first code block first to load the necessary functions.')\n"
      ],
      "metadata": {
        "colab": {
          "base_uri": "https://localhost:8080/"
        },
        "id": "IGbGUp6w-sEq",
        "outputId": "c7602147-feb5-4e53-ec80-3fb3681d40f9"
      },
      "execution_count": 5,
      "outputs": [
        {
          "output_type": "stream",
          "name": "stdout",
          "text": [
            "90.0% confidence interval: [0.9080389449267313, 1.0711936588331088]\n"
          ]
        }
      ]
    },
    {
      "cell_type": "markdown",
      "source": [
        "# Example second approach"
      ],
      "metadata": {
        "id": "kktp5Xtn7pNh"
      }
    },
    {
      "cell_type": "markdown",
      "source": [
        "Typically, only the geometric mean and coefficient of variation are published and not the individual AUC values. In this case, the first approach is not possible and the second approach must be used."
      ],
      "metadata": {
        "id": "SakMDp7n8WMn"
      }
    },
    {
      "cell_type": "code",
      "source": [
        "hypothetical_observed_GM = 120\n",
        "hypothetical_predicted_GM = 120\n",
        "hypothetical_CV = 0.4 # N.B. 40% should be entered as 0.4!\n",
        "Number_of_subjects = 20\n",
        "\n",
        "try:\n",
        "  confidence_interval(hypothetical_observed_GM, hypothetical_predicted_GM,\n",
        "                    hypothetical_CV, N=Number_of_subjects, alpha=0.1)\n",
        "\n",
        "except NameError:\n",
        "  print('Run the first code block first to load the necessary functions.')"
      ],
      "metadata": {
        "colab": {
          "base_uri": "https://localhost:8080/"
        },
        "id": "tykg_Kuf8-yZ",
        "outputId": "6a4ac782-9e96-4240-9c99-5477759ff473"
      },
      "execution_count": 2,
      "outputs": [
        {
          "output_type": "stream",
          "name": "stdout",
          "text": [
            "Run the first code block first to load the necessary functions\n"
          ]
        }
      ]
    }
  ]
}