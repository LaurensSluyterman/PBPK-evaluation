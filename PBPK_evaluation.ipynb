{
  "nbformat": 4,
  "nbformat_minor": 0,
  "metadata": {
    "colab": {
      "provenance": [],
      "authorship_tag": "ABX9TyPcUuDEdxI9mrXZn+qgvn9p",
      "include_colab_link": true
    },
    "kernelspec": {
      "name": "python3",
      "display_name": "Python 3"
    },
    "language_info": {
      "name": "python"
    }
  },
  "cells": [
    {
      "cell_type": "markdown",
      "metadata": {
        "id": "view-in-github",
        "colab_type": "text"
      },
      "source": [
        "<a href=\"https://colab.research.google.com/github/LaurensSluyterman/PBPK-evaluation/blob/main/PBPK_evaluation.ipynb\" target=\"_parent\"><img src=\"https://colab.research.google.com/assets/colab-badge.svg\" alt=\"Open In Colab\"/></a>"
      ]
    },
    {
      "cell_type": "markdown",
      "source": [
        "This colab contains all the necessary code in order to calcualte a confidence interval for a geometric mean ratio as is advocated in (insert name paper). "
      ],
      "metadata": {
        "id": "O4CFt2EiA6C7"
      }
    },
    {
      "cell_type": "code",
      "source": [
        "#@title Make sure to run this first\n",
        "import numpy as np\n",
        "import scipy\n",
        "from scipy import stats\n",
        "\n",
        "def confidence_interval_individual_values(AUC_values, predicted_AUC_values, \n",
        "                                          alpha=0.1):\n",
        "    if len(AUC_values) != len(predicted_AUC_values):\n",
        "      print('different number of predictions and observations')\n",
        "      return\n",
        "    if alpha > 1:\n",
        "      print('alpha cannot be larger than 1. For a 90% confidence interval, use alpha=0.1')\n",
        "    z_values = np.log(predicted_AUC_values) - np.log(AUC_values)\n",
        "    N = len(z_values)\n",
        "    var = np.var(z_values)\n",
        "    average = np.mean(z_values)\n",
        "    t = scipy.stats.t(N-1).ppf(1-alpha/2)\n",
        "    loglowerbound = average - t * np.sqrt(var / N)\n",
        "    logupperbound = average + t * np.sqrt(var / N)\n",
        "    CI = [np.exp(loglowerbound), np.exp(logupperbound)]\n",
        "    print(f'{100*(1-alpha)}% confidence interval: {CI}')\n",
        "\n",
        "def confidence_interval(GM_observed, GM_predicted, CV, N, alpha=0.1):\n",
        "    \"\"\"CV must be the geometric coefficient of variation\"\"\"\n",
        "    if CV>1:\n",
        "      print('The coefficient of variation cannot exceed 1')\n",
        "      return\n",
        "    average = np.log(GM_observed)\n",
        "    var = np.log(CV**2 + 1)\n",
        "    t = scipy.stats.t(N-1).ppf(1-alpha/2)\n",
        "    loglowerbound = average + t * np.sqrt(var / N)\n",
        "    logupperbound = average - t * np.sqrt(var / N)\n",
        "    CI = [GM_predicted / np.exp(loglowerbound), GM_predicted / np.exp(logupperbound)]\n",
        "    print(f'{100*(1-alpha)}% confidence interval: {CI}')\n"
      ],
      "metadata": {
        "cellView": "form",
        "id": "EPDAGOEH9VBo"
      },
      "execution_count": 26,
      "outputs": []
    },
    {
      "cell_type": "markdown",
      "source": [
        "## Example when individual observations and predictions are available\n",
        "\n",
        "The cell below illustrates how a confidence interval can be created using individual observations and predicitons. The hypothetical values can be replaced by relevant values. By default, a 90% confidence interval is given. To get, for instance, a 95% percent confidence interval, change alpha to 0.05.\n"
      ],
      "metadata": {
        "id": "u-xLvF5G-pUB"
      }
    },
    {
      "cell_type": "code",
      "source": [
        "hypothetical_observations = np.array([132,\n",
        "                                      111,\n",
        "                                      120,\n",
        "                                      190,\n",
        "                                      115,\n",
        "                                      130])\n",
        "\n",
        "hypothetical_predictions = np.array([110,\n",
        "                                     121,\n",
        "                                     125,\n",
        "                                     170,\n",
        "                                     125,\n",
        "])\n",
        "\n",
        "confidence_interval_individual_values(hypothetical_observations, \n",
        "                                      hypothetical_predictions,\n",
        "                                      alpha=0.1)\n"
      ],
      "metadata": {
        "colab": {
          "base_uri": "https://localhost:8080/"
        },
        "id": "IGbGUp6w-sEq",
        "outputId": "9964c3fe-f912-41e1-a7fd-256445d06c7f"
      },
      "execution_count": 27,
      "outputs": [
        {
          "output_type": "stream",
          "name": "stdout",
          "text": [
            "different number of predictions and observations\n"
          ]
        }
      ]
    },
    {
      "cell_type": "markdown",
      "source": [
        "# Example second approach"
      ],
      "metadata": {
        "id": "kktp5Xtn7pNh"
      }
    },
    {
      "cell_type": "markdown",
      "source": [
        "Quite often, only the geometric mean and coefficient of variation are published and not the individual AUC values. In this case the first approach is not possible and the second approach must be used."
      ],
      "metadata": {
        "id": "SakMDp7n8WMn"
      }
    },
    {
      "cell_type": "code",
      "source": [
        "hypothetical_observed_GM = 120\n",
        "hypothetical_predicted_GM = 110\n",
        "hypothetical_CV = 0.4 # N.B. this value should be between 0 and 1, not between 0 and 100!\n",
        "Number_of_subjects = 20\n",
        "confidence_interval(hypothetical_observed_GM, hypothetical_predicted_GM, \n",
        "                    hypothetical_CV, N=Number_of_subjects, alpha=0.1)"
      ],
      "metadata": {
        "colab": {
          "base_uri": "https://localhost:8080/"
        },
        "id": "tykg_Kuf8-yZ",
        "outputId": "747d7436-ccd1-4faa-de71-019c02eb2529"
      },
      "execution_count": 15,
      "outputs": [
        {
          "output_type": "stream",
          "name": "stdout",
          "text": [
            "90.0% confidence interval: [0.789806013057465, 1.0639040015977201]\n"
          ]
        }
      ]
    }
  ]
}